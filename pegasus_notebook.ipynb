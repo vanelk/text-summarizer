{
 "cells": [
  {
   "cell_type": "markdown",
   "metadata": {},
   "source": [
    "- Installing dependencies"
   ]
  },
  {
   "cell_type": "code",
   "execution_count": null,
   "metadata": {},
   "outputs": [],
   "source": [
    "%pip install torch torchvision torchaudio --extra-index-url https://download.pytorch.org/whl/cu113"
   ]
  },
  {
   "cell_type": "code",
   "execution_count": null,
   "metadata": {},
   "outputs": [],
   "source": [
    "%pip install transformers sentencepiece"
   ]
  },
  {
   "cell_type": "markdown",
   "metadata": {},
   "source": [
    "- Importing dependencies"
   ]
  },
  {
   "cell_type": "code",
   "execution_count": 3,
   "metadata": {},
   "outputs": [],
   "source": [
    "from transformers import PegasusForConditionalGeneration, PegasusTokenizer\n",
    "import torch"
   ]
  },
  {
   "cell_type": "markdown",
   "metadata": {},
   "source": [
    "- Initialize the model"
   ]
  },
  {
   "cell_type": "code",
   "execution_count": 4,
   "metadata": {},
   "outputs": [],
   "source": [
    "tokenizer = PegasusTokenizer.from_pretrained(\"google/pegasus-xsum\")"
   ]
  },
  {
   "cell_type": "code",
   "execution_count": 18,
   "metadata": {},
   "outputs": [],
   "source": [
    "\n",
    "device = \"cuda\" if torch.cuda.is_available() else \"cpu\"\n",
    "model = PegasusForConditionalGeneration.from_pretrained(\"google/pegasus-xsum\")#.to(device)"
   ]
  },
  {
   "cell_type": "markdown",
   "metadata": {},
   "source": [
    "- Create summarize text function"
   ]
  },
  {
   "cell_type": "code",
   "execution_count": 19,
   "metadata": {},
   "outputs": [],
   "source": [
    "def summarize_text(text):\n",
    "    text = text.replace(\".\", \".<ln>\")\n",
    "    text = text.replace(\"!\", \"!<ln>\")\n",
    "    text = text.replace(\"?\", \"?<ln>\")\n",
    "    text = text.split(\"<ln>\")\n",
    "    max_chunk_size = 100\n",
    "    chunks = [\"\"]\n",
    "    \n",
    "    for sentense in text:\n",
    "        if len(chunks[-1].split(\" \")) + len(sentense.split(\" \")) < max_chunk_size:\n",
    "            chunks[-1] += sentense\n",
    "        else:\n",
    "            chunks.append(sentense)\n",
    "    \n",
    "    # Generate Tokens\n",
    "    tokens = tokenizer(chunks, truncation=True, padding=\"longest\", return_tensors=\"pt\")#.to(device)\n",
    "    # Summarize\n",
    "    summary =  model.generate(**tokens,)\n",
    "    # Decode Summary\n",
    "    return tokenizer.batch_decode(summary)"
   ]
  },
  {
   "cell_type": "markdown",
   "metadata": {},
   "source": [
    "- Running text summary"
   ]
  },
  {
   "cell_type": "code",
   "execution_count": 20,
   "metadata": {},
   "outputs": [
    {
     "data": {
      "text/plain": [
       "'It’s been a while since I’ve written a blog about mathematics, so I thought I’d give it a go. PCA is a neat tool to use in information theory, and even though the maths is a bit complicated, you only need to get a broad idea of what’s going on to be able to use it effectively. Today i’m going to talk about Principal Analysis. There are three main directions of data. What is the principal component of a line? Eigenvectors and Eigenvalues When we get a set of data points, like the triangles above, we can deconstruct the set into eigenvectors and eigenvalues. The eigenvector is the number of eigenvalues that exist in a data set. eigenvectors are a bit complicated, but an example should make it clear. It turns out that the eigenvectors have to be able to span the whole x-y area, in order to do this (most effectively), the two directions need to be able to one another. We’ve got two eigenvectors, one for the x and one for the y axis. In the previous post I showed you how to get the eigenvalue for a set of axes, and how to get the eigenvalue for a set of directions. eigenvectors are the new PCAs. Dimension Reduction PCA can be used to reduce the dimensions of a data set. Imagine that you have a 3D graph of all the data points in a data set. In this paper I will show you how to rearrange our axes to be along the eigenvectors. We have a problem where we want to represent the data in 3 dimensions. An example of this is an oval with 3 eigenvectors, all of them being zero. The eigenvalues of a data set can be reduced to fit the dimensions of the data set. This is an example of how to reduce a data set from 50 dimensions to 4 dimensions. It is not easy to find the dominant dimensions in a large data set.'"
      ]
     },
     "execution_count": 20,
     "metadata": {},
     "output_type": "execute_result"
    }
   ],
   "source": [
    "text = \"\"\"Having been in the social sciences for a couple of weeks it seems like a large amount of quantitative analysis relies on Principal Component Analysis (PCA). This is usually referred to in tandem with eigenvalues, eigenvectors and lots of numbers. So what’s going on? Is this just mathematical jargon to get the non-maths scholars to stop asking questions? Maybe, but it’s also a useful tool to use when you have to look at data. This post will give a very broad overview of PCA, describing eigenvectors and eigenvalues (which you need to know about to understand it) and showing how you can reduce the dimensions of data using PCA. As I said it’s a neat tool to use in information theory, and even though the maths is a bit complicated, you only need to get a broad idea of what’s going on to be able to use it effectively.\n",
    "\n",
    "There’s quite a bit of stuff to process in this post, but i’ve got rid of as much maths as possible and put in lots of pictures.\n",
    "\n",
    "What is Principal Component Analysis?\n",
    "First of all Principal Component Analysis is a good name. It does what it says on the tin. PCA finds the principal components of data.\n",
    "\n",
    "It is often useful to measure data in terms of its principal components rather than on a normal x-y axis. So what are principal components then? They’re the underlying structure in the data. They are the directions where there is the most variance, the directions where the data is most spread out. This is easiest to explain by way of example. Here’s some triangles in the shape of an oval:\n",
    "\n",
    "PCA3\n",
    "\n",
    "Imagine that the triangles are points of data. To find the direction where there is most variance, find the straight line where the data is most spread out when projected onto it. A vertical straight line with the points projected on to it will look like this:\n",
    "\n",
    "PCA9\n",
    "\n",
    "The data isn’t very spread out here, therefore it doesn’t have a large variance. It is probably not the principal component.\n",
    "\n",
    "A horizontal line are with lines projected on will look like this:\n",
    "\n",
    "PCA8\n",
    "\n",
    "On this line the data is way more spread out, it has a large variance. In fact there isn’t a straight line you can draw that has a larger variance than a horizontal one. A horizontal line is therefore the principal component in this example.\n",
    "\n",
    "Luckily we can use maths to find the principal component rather than drawing lines and unevenly shaped triangles. This is where eigenvectors and eigenvalues come in.\n",
    "\n",
    "Eigenvectors and Eigenvalues\n",
    "When we get a set of data points, like the triangles above, we can deconstruct the set into eigenvectors and eigenvalues. Eigenvectors and values exist in pairs: every eigenvector has a corresponding eigenvalue. An eigenvector is a direction, in the example above the eigenvector was the direction of the line (vertical, horizontal, 45 degrees etc.) . An eigenvalue is a number, telling you how much variance there is in the data in that direction, in the example above the eigenvalue is a number telling us how spread out the data is on the line. The eigenvector with the highest eigenvalue is therefore the principal component.\n",
    "\n",
    "Okay, so even though in the last example I could point my line in any direction, it turns out there are not many eigenvectors/values in a data set. In fact the amount of eigenvectors/values that exist equals the number of dimensions the data set has. Say i’m measuring age and hours on the internet. there are 2 variables, it’s a 2 dimensional data set, therefore there are 2 eigenvectors/values. If i’m measuring age, hours on internet and hours on mobile phone there’s 3 variables, 3-D data set, so 3 eigenvectors/values. The reason for this is that eigenvectors put the data into a new set of dimensions, and these new dimensions have to be equal to the original amount of dimensions. This sounds complicated, but again an example should make it clear.\n",
    "\n",
    "Here’s a graph with the oval:\n",
    "\n",
    "PCA2\n",
    "\n",
    "At the moment the oval is on an x-y axis. x could be age and y hours on the internet. These are the two dimensions that my data set is currently being measured in. Now remember that the principal component of the oval was a line splitting it longways:\n",
    "\n",
    "PCA10\n",
    "\n",
    "It turns out the other eigenvector (remember there are only two of them as it’s a 2-D problem) is perpendicular to the principal component. As we said, the eigenvectors have to be able to span the whole x-y area, in order to do this (most effectively), the two directions need to be orthogonal (i.e. 90 degrees) to one another. This why the x and y axis are orthogonal to each other in the first place. It would be really awkward if the y axis was at 45 degrees to the x axis. So the second eigenvector would look like this:\n",
    "\n",
    "PCA11\n",
    "\n",
    "The eigenvectors have given us a much more useful axis to frame the data in. We can now re-frame the data in these new dimensions. It would look like this::\n",
    "\n",
    "PCA1\n",
    "\n",
    "Note that nothing has been done to the data itself. We’re just looking at it from a different angle. So getting the eigenvectors gets you from one set of axes to another. These axes are much more intuitive to the shape of the data now. These directions are where there is most variation, and that is where there is more information (think about this the reverse way round. If there was no variation in the data [e.g. everything was equal to 1] there would be no information, it’s a very boring statistic – in this scenario the eigenvalue for that dimension would equal zero, because there is no variation).\n",
    "\n",
    "But what do these eigenvectors represent in real life? The old axes were well defined (age and hours on internet, or any 2 things that you’ve explicitly measured), whereas the new ones are not. This is where you need to think. There is often a good reason why these axes represent the data better, but maths won’t tell you why, that’s for you to work out.\n",
    "\n",
    "How does PCA and eigenvectors help in the actual analysis of data? Well there’s quite a few uses, but a main one is dimension reduction.\n",
    "\n",
    "Dimension Reduction\n",
    "PCA can be used to reduce the dimensions of a data set. Dimension reduction is analogous to being philosophically reductionist: It reduces the data down into it’s basic components, stripping away any unnecessary parts.\n",
    "\n",
    "Let’s say you are measuring three things: age, hours on internet and hours on mobile. There are 3 variables so it is a 3D data set. 3 dimensions is an x,y and z graph, It measure width, depth and height (like the dimensions in the real world). Now imagine that the data forms into an oval like the ones above, but that this oval is on a plane. i.e. all the data points lie on a piece of paper within this 3D graph (having width and depth, but no height). Like this:\n",
    "\n",
    "PCA12\n",
    "\n",
    "When we find the 3 eigenvectors/values of the data set (remember 3D probem = 3 eigenvectors), 2 of the eigenvectors will have large eigenvalues, and one of the eigenvectors will have an eigenvalue of zero. The first two eigenvectors will show the width and depth of the data, but because there is no height on the data (it is on a piece of paper) the third eigenvalue will be zero. On the picture below ev1 is the first eignevector (the one with the biggest eigenvalue, the principal component), ev2 is the second eigenvector (which has a non-zero eigenvalue) and ev3 is the third eigenvector, which has an eigenvalue of zero.\n",
    "\n",
    "PCA13\n",
    "\n",
    "We can now rearrange our axes to be along the eigenvectors, rather than age, hours on internet and hours on mobile. However we know that the ev3, the third eigenvector, is pretty useless. Therefore instead of representing the data in 3 dimensions, we can get rid of the useless direction and only represent it in 2 dimensions, like before:\n",
    "\n",
    "PCA7\n",
    "\n",
    "This is dimension reduction. We have reduced the problem from a 3D to a 2D problem, getting rid of a dimension. Reducing dimensions helps to simplify the data and makes it easier to visualise.\n",
    "\n",
    "Note that we can reduce dimensions even if there isn’t a zero eigenvalue. Imagine we did the example again, except instead of the oval being on a 2D plane, it had a tiny amount of height to it. There would still be 3 eigenvectors, however this time all the eigenvalues would not be zero. The values would be something like 10, 8 and 0.1. The eigenvectors corresponding to 10 and 8 are the dimensions where there is alot of information, the eigenvector corresponding to 0.1 will not have much information at all, so we can therefore discard the third eigenvector again in order to make the data set more simple.\n",
    "\n",
    "Example: the OxIS 2013 report\n",
    "The OxIS 2013 report asked around 2000 people a set of questions about their internet use. It then identified 4 principal components in the data. This is an example of dimension reduction. Let’s say they asked each person 50 questions. There are therefore 50 variables, making it a 50-dimension data set. There will then be 50 eigenvectors/values that will come out of that data set. Let’s say the eigenvalues of that data set were (in descending order): 50, 29, 17, 10, 2, 1, 1, 0.4, 0.2….. There are lots of eigenvalues, but there are only 4 which have big values – indicating along those four directions there is alot of information. These are then identified as the four principal components of the data set (which in the report were labelled as enjoyable escape, instrumental efficiency, social facilitator and problem generator), the data set can then be reduced from 50 dimensions to only 4 by ignoring all the eigenvectors that have insignificant eigenvalues. 4 dimensions is much easier to work with than 50! So dimension reduction using PCA helped simplify this data set by finding the dominant dimensions within it.\n",
    "\"\"\"\n",
    "\n",
    "\" \".join(summarize_text(text))"
   ]
  }
 ],
 "metadata": {
  "kernelspec": {
   "display_name": "Python 3.10.2 ('venv': venv)",
   "language": "python",
   "name": "python3"
  },
  "language_info": {
   "codemirror_mode": {
    "name": "ipython",
    "version": 3
   },
   "file_extension": ".py",
   "mimetype": "text/x-python",
   "name": "python",
   "nbconvert_exporter": "python",
   "pygments_lexer": "ipython3",
   "version": "3.10.2"
  },
  "orig_nbformat": 4,
  "vscode": {
   "interpreter": {
    "hash": "d79cd5715156b1d23c8a6f890633d46e9fe8ebdc26a4c067051130f3d4c1a09e"
   }
  }
 },
 "nbformat": 4,
 "nbformat_minor": 2
}
