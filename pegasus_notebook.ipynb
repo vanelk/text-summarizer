{
 "cells": [
  {
   "cell_type": "markdown",
   "metadata": {},
   "source": [
    "- Installing dependencies"
   ]
  },
  {
   "cell_type": "code",
   "execution_count": 56,
   "metadata": {},
   "outputs": [
    {
     "name": "stdout",
     "output_type": "stream",
     "text": [
      "^C\n",
      "Note: you may need to restart the kernel to use updated packages.\n"
     ]
    }
   ],
   "source": [
    "%pip install torch torchvision torchaudio --extra-index-url https://download.pytorch.org/whl/cu113"
   ]
  },
  {
   "cell_type": "code",
   "execution_count": null,
   "metadata": {},
   "outputs": [],
   "source": [
    "%pip install transformers sentencepiece"
   ]
  },
  {
   "cell_type": "markdown",
   "metadata": {},
   "source": [
    "- Importing dependencies"
   ]
  },
  {
   "cell_type": "code",
   "execution_count": null,
   "metadata": {},
   "outputs": [],
   "source": [
    "from transformers import PegasusForConditionalGeneration, PegasusTokenizer"
   ]
  },
  {
   "cell_type": "code",
   "execution_count": null,
   "metadata": {},
   "outputs": [],
   "source": [
    "tokenizer = PegasusTokenizer.from_pretrained(\"google/pegasus-xsum\")"
   ]
  },
  {
   "cell_type": "code",
   "execution_count": null,
   "metadata": {},
   "outputs": [],
   "source": [
    "model = PegasusForConditionalGeneration.from_pretrained(\"google/pegasus-xsum\")"
   ]
  },
  {
   "cell_type": "code",
   "execution_count": 73,
   "metadata": {},
   "outputs": [],
   "source": [
    "def summarize_text(text):\n",
    "    # Generate Tokens\n",
    "    tokens = tokenizer(text, truncation=True, padding=\"longest\", return_tensors=\"pt\")\n",
    "    # Summarize\n",
    "    summary =  model.generate(**tokens)\n",
    "    # Decode Summary\n",
    "    return tokenizer.decode(summary[0])"
   ]
  },
  {
   "cell_type": "code",
   "execution_count": 75,
   "metadata": {},
   "outputs": [
    {
     "data": {
      "text/plain": [
       "'The detection of fake news has long been an area of interest for computer science researchers.'"
      ]
     },
     "execution_count": 75,
     "metadata": {},
     "output_type": "execute_result"
    }
   ],
   "source": [
    "text = \"\"\"\n",
    "Social media have emerged as an important source of information for many worldwide. Unfortunately, not all information they publish is true. During critical events such as\n",
    "political elections or pandemic outbreaks, disinformation\n",
    "with malicious intent,21 commonly known as “fake news,”\n",
    "can disturb social behavior, public fairness, and rationality.\n",
    "Many sites and social media have devoted efforts to identify\n",
    "disinformation. For example, Facebook encourages users\n",
    "to report noncredible posts and employs professional fact\n",
    "checkers to expose the news in question. Manual factchecking is also used by fact-checking websites such as\n",
    "Snopes, FactCheck, PolitiFact, and Full Fact. In order to\n",
    "scale with the increasing amount of information, automated news verification systems consider external knowledge databases as evidence.23 Evidence-based approaches\n",
    "achieve high accuracy and offer potential explainability,\n",
    "but they also take considerable human effort. Moreover,\n",
    "fact-checking approaches for textual claims based on textual evidence are not easily applicable to claims about\n",
    "images or videos.\n",
    "Recent work has taken a different tack, by exploring the\n",
    "contextual features of the news-dissemination process.\n",
    "They observed distinctive engagement patterns when social\n",
    "users face fake versus factual news.6, 13 For example, the fake\n",
    "news as shown in Table 1 had many engagements shortly\n",
    "after its publication. These are mainly verbatim recirculations with negative sentiment of the original post explained\n",
    "by the typically appalling content of fake news. After that\n",
    "short time window, we see denial posts questioning the\n",
    "validity of the news, and the stance distribution stabilizes\n",
    "afterwards with virtually no support. In contrast, the real\n",
    "news example in Table 1 leads to moderate engagement,\n",
    "mainly comprised of supportive posts with neutral sentiment that stabilize quickly. Such temporal shifts in user\n",
    "perception serve as important signals to distinguish fake\n",
    "from real news.\n",
    "Previous work proposed partial representations of\n",
    "social context with (i) news, sources, and users as major\n",
    "entities and (ii) stances, friendship, and publication as\n",
    "major interactions.5, 16, 17, 22 However, they did not put much\n",
    "emphasis on the quality of the representation, on modeling the entities and their interactions, and on minimally\n",
    "supervised settings.\n",
    "Naturally, the social context of news dissemination can\n",
    "be represented as a heterogeneous network where nodes\n",
    "and edges represent the social entities and the interactions\n",
    "between them, respectively. Network representations have\n",
    "several advantages over some existing Euclidean-based\n",
    "methods11, 18 in terms of structural modeling capability\n",
    "for several phenomena such as echo chambers of users\n",
    "or polarized networks of news media. Graphical models\n",
    "also allow entities to exchange information, via (i) homogeneous edges, that is, user–user relationship, source–source\n",
    "citations; (ii) heterogeneous edges, that is, user–news\n",
    "stance expression, source–news publication; as well as\n",
    "(iii) high-order proximity (such as, between users who consistently support or deny certain sources, as illustrated in\n",
    "Figure 1). This allows the representation of heterogeneous\n",
    "entities to be dependent, leveraging not only fake news\n",
    "detection but also related tasks such as malicious user\n",
    "detection and source factuality prediction. Here, we focus\n",
    "on improving contextual fake news detection by enhancing\n",
    "the representations of social entities.\n",
    "\"\"\"\n",
    "\n",
    "summarize_text(text)"
   ]
  }
 ],
 "metadata": {
  "kernelspec": {
   "display_name": "Python 3.10.2 ('venv': venv)",
   "language": "python",
   "name": "python3"
  },
  "language_info": {
   "codemirror_mode": {
    "name": "ipython",
    "version": 3
   },
   "file_extension": ".py",
   "mimetype": "text/x-python",
   "name": "python",
   "nbconvert_exporter": "python",
   "pygments_lexer": "ipython3",
   "version": "3.10.2"
  },
  "orig_nbformat": 4,
  "vscode": {
   "interpreter": {
    "hash": "d79cd5715156b1d23c8a6f890633d46e9fe8ebdc26a4c067051130f3d4c1a09e"
   }
  }
 },
 "nbformat": 4,
 "nbformat_minor": 2
}
